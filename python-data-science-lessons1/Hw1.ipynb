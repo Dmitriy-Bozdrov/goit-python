{
 "cells": [
  {
   "cell_type": "markdown",
   "id": "f26a1423",
   "metadata": {},
   "source": [
    "1: Вкладчик положил 50000 условных единиц на три разных счета в три разных банка. По первому счету выплаты составят 5% годовых, по второму – 7% годовых и по третьему 6% годовых. Известно, что через год вкладчик получил по процентам сумму в 2250 у.е. с первого и второго банка и сумму в 1400 у.е. с первого и третьего банка. Сколько условных единиц он положил на каждый счет изначально?"
   ]
  },
  {
   "cell_type": "code",
   "execution_count": 21,
   "id": "ee46d96a",
   "metadata": {},
   "outputs": [
    {
     "name": "stdout",
     "output_type": "stream",
     "text": [
      "Ответ: 1ый банк- 10000; 2ой банк - 25000; 3ий банк - 14999\n"
     ]
    }
   ],
   "source": [
    "import numpy as np\n",
    "\n",
    "a = np.array([[1,1,1], [0.05,0.07,0], [0.05,0,0.06]])\n",
    "b = np.array([50000, 2250, 1400])\n",
    "a_inv = np.linalg.inv(a)\n",
    "x = a_inv.dot(b)\n",
    "\n",
    "print(f'Ответ: 1ый банк- {int(x[0])}; 2ой банк - {int(x[1])}; 3ий банк - {int(x[2])}')"
   ]
  },
  {
   "cell_type": "markdown",
   "id": "2f743a1d",
   "metadata": {},
   "source": [
    "2: На складе хранятся мобильные телефоны iPhone 6, iPhone 11, iPhone 12 моделей. Всего 1328 экземпляра. Моделей iPhone 6 на 120 меньше, чем моделей iPhone 11, и на 100 больше, чем моделей iPhone 12. Сколько моделей каждого вида на складе?\n"
   ]
  },
  {
   "cell_type": "code",
   "execution_count": 27,
   "id": "37f1e4a5",
   "metadata": {},
   "outputs": [
    {
     "name": "stdout",
     "output_type": "stream",
     "text": [
      "Ответ: iPhone 6 - 436 шт.; iPhone 11 - 556 шт.; iPhone 12 - 336 шт.\n"
     ]
    }
   ],
   "source": [
    "a = np.array([[1,1,1], [-1,1,0], [1,0,-1]])\n",
    "b = np.array([1328,120,100])\n",
    "\n",
    "a_inv = np.linalg.inv(a)\n",
    "x = a_inv.dot(b)\n",
    "\n",
    "print(f'Ответ: iPhone 6 - {int(x[0])} шт.; iPhone 11 - {int(x[1])} шт.; iPhone 12 - {int(x[2])} шт.')\n"
   ]
  },
  {
   "cell_type": "markdown",
   "id": "b9ad46c8",
   "metadata": {},
   "source": [
    "3: Составьте каноническое уравнение эллипсоида, проходящего через три точки A,B,C. Задача состоит в определении параметров <i>a<sup>2</sup>, b<sup>2</sup>, c<sup>2</sup></i>.\n"
   ]
  },
  {
   "cell_type": "code",
   "execution_count": 22,
   "id": "051223dc",
   "metadata": {},
   "outputs": [
    {
     "name": "stdout",
     "output_type": "stream",
     "text": [
      "Ответ: a=3.46; b=0.71; c=2.0\n"
     ]
    }
   ],
   "source": [
    "a = np.array([[3,0,3], [6,0.25,0], [1,0.3333,1]])\n",
    "b = np.array([1,1,1])\n",
    "a_inv = np.linalg.inv(a)\n",
    "x = a_inv.dot(b)\n",
    "\n",
    "print(f\"Ответ: a={round((1/x[0])**0.5, 2)}; b={round((1/x[1])**0.5, 2)}; c={round((1/x[2])**0.5, 2)}\")\n"
   ]
  },
  {
   "cell_type": "markdown",
   "id": "b7197ee2",
   "metadata": {},
   "source": [
    "4: Составьте уравнение параболы проходящей через заданные три точки (1,12), (3,54), (-1,2). Необходимо найти коэффициенты уравнения a,b,c."
   ]
  },
  {
   "cell_type": "code",
   "execution_count": 26,
   "id": "83ac3342",
   "metadata": {},
   "outputs": [
    {
     "name": "stdout",
     "output_type": "stream",
     "text": [
      "Ответ: a = 4; b = 5; c = 3\n"
     ]
    }
   ],
   "source": [
    "a = np.array([[1,1,1], [9,3,1], [1,-1,1]])\n",
    "b = np.array([12, 54, 2])\n",
    "x = np.linalg.solve(a, b)\n",
    "\n",
    "print(f'Ответ: a = {int(x[0])}; b = {int(x[1])}; c = {int(x[2])}')"
   ]
  },
  {
   "cell_type": "markdown",
   "id": "0c8e754e",
   "metadata": {},
   "source": [
    "5: Составьте функцию get_polynom, которая по набору точек вида <i>(x<sub>1</sub>, y<sub>1</sub>), (x<sub>2</sub>, y<sub>2</sub>),<sub>....</sub>, (x<sub>n+1</sub>, y<sub>n+1</sub>)</i> будет находить коэффициенты многочлена c<sub>i</sub>. Таким образом функция принимает список кортежей с координатами и возвращает набор коэффициентов c<sub>0</sub>, c<sub>1</sub>,<sub>....</sub>, c<sub>n</sub>."
   ]
  },
  {
   "cell_type": "code",
   "execution_count": null,
   "id": "412219d0",
   "metadata": {},
   "outputs": [],
   "source": []
  }
 ],
 "metadata": {
  "kernelspec": {
   "display_name": "Python 3 (ipykernel)",
   "language": "python",
   "name": "python3"
  },
  "language_info": {
   "codemirror_mode": {
    "name": "ipython",
    "version": 3
   },
   "file_extension": ".py",
   "mimetype": "text/x-python",
   "name": "python",
   "nbconvert_exporter": "python",
   "pygments_lexer": "ipython3",
   "version": "3.9.9"
  }
 },
 "nbformat": 4,
 "nbformat_minor": 5
}
